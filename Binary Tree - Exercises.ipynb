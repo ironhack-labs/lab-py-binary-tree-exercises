{
 "cells": [
  {
   "cell_type": "markdown",
   "metadata": {},
   "source": [
    "# LAB | PY Binary Tree Exercises"
   ]
  },
  {
   "cell_type": "markdown",
   "metadata": {},
   "source": [
    "\n",
    "## Overview\n"
   ]
  },
  {
   "cell_type": "markdown",
   "metadata": {},
   "source": [
    "This exercise notebook will help you practice Trees operations in Python. You will write programs that implement various Tree functionalities, enhancing your understanding of this important data structure."
   ]
  },
  {
   "cell_type": "markdown",
   "metadata": {},
   "source": [
    "\n",
    "## Instructions\n"
   ]
  },
  {
   "cell_type": "markdown",
   "metadata": {},
   "source": [
    "\n",
    "- Complete each exercise by writing the appropriate Python code.\n",
    "- Test your code to ensure it behaves as expected.\n"
   ]
  },
  {
   "cell_type": "markdown",
   "metadata": {},
   "source": [
    "\n",
    "## Exercise 1. **Inorder Traversal of a Binary Tree**\n",
    "   - Write a program to perform inorder traversal of a binary tree.\n",
    "\n",
    "   ```Example:\n",
    "   Input:\n",
    "       1\n",
    "      / \\\n",
    "     2   3\n",
    "   Output: 2 1 3\n",
    "   ```\n"
   ]
  },
  {
   "cell_type": "code",
   "execution_count": 1,
   "metadata": {},
   "outputs": [],
   "source": [
    "# Insert your code HERE"
   ]
  },
  {
   "cell_type": "markdown",
   "metadata": {},
   "source": [
    "\n",
    "## Exercise 2. **Find Height of a Binary Tree**\n",
    "   - Implement a function to find the height of a binary tree.\n",
    "\n",
    "   ```Example:\n",
    "   Input:\n",
    "       1\n",
    "      / \\\n",
    "     2   3\n",
    "    /\n",
    "   4\n",
    "   Output: 3\n",
    "   ```\n"
   ]
  },
  {
   "cell_type": "code",
   "execution_count": 2,
   "metadata": {},
   "outputs": [],
   "source": [
    "# Insert your code HERE"
   ]
  },
  {
   "cell_type": "markdown",
   "metadata": {},
   "source": [
    "\n",
    "## Exercise 3. **Level Order Traversal of a Binary Tree**\n",
    "   - Write a program to perform level order traversal (BFS) of a binary tree.\n",
    "\n",
    "   ```Example:\n",
    "   Input:\n",
    "       1\n",
    "      / \\\n",
    "     2   3\n",
    "   Output: 1 2 3\n",
    "   ```\n"
   ]
  },
  {
   "cell_type": "code",
   "execution_count": 3,
   "metadata": {},
   "outputs": [],
   "source": [
    "# Insert your code HERE"
   ]
  },
  {
   "cell_type": "markdown",
   "metadata": {},
   "source": [
    "\n",
    "## Exercise 4. **Check if Two Trees are Identical**\n",
    "   - Write a function to check if two binary trees are identical.\n",
    "\n",
    "   ```Example:\n",
    "   Input:\n",
    "       Tree A:    1         Tree B:    1\n",
    "                / \\                  / \\\n",
    "               2   3                2   3\n",
    "   Output: True\n",
    "   ```\n"
   ]
  },
  {
   "cell_type": "code",
   "execution_count": 4,
   "metadata": {},
   "outputs": [],
   "source": [
    "# Insert your code HERE"
   ]
  },
  {
   "cell_type": "markdown",
   "metadata": {},
   "source": [
    "\n",
    "## Exercise 5. **Find Maximum Element in a Binary Tree**\n",
    "   - Implement a function to find the maximum element in a binary tree.\n",
    "\n",
    "   ```Example:\n",
    "   Input:\n",
    "       1\n",
    "      / \\\n",
    "     2   3\n",
    "    /\n",
    "   4\n",
    "   Output: 4\n",
    "   ```\n"
   ]
  },
  {
   "cell_type": "code",
   "execution_count": 5,
   "metadata": {},
   "outputs": [],
   "source": [
    "# Insert your code HERE"
   ]
  },
  {
   "cell_type": "markdown",
   "metadata": {},
   "source": [
    "\n",
    "### Exercise Completion\n"
   ]
  },
  {
   "cell_type": "markdown",
   "metadata": {},
   "source": [
    "\n",
    "Once you have completed all exercises:\n",
    "\n",
    "- Review your solutions.\n",
    "- Ensure your code is well-documented with comments explaining your logic.\n",
    "- Save your notebook for submission or further review.\n"
   ]
  },
  {
   "cell_type": "markdown",
   "metadata": {},
   "source": [
    "\n",
    "Happy coding! Enjoy practicing Trees in Python!\n"
   ]
  }
 ],
 "metadata": {
  "kernelspec": {
   "display_name": "Python 3",
   "language": "python",
   "name": "python3"
  },
  "language_info": {
   "codemirror_mode": {
    "name": "ipython",
    "version": 3
   },
   "file_extension": ".py",
   "mimetype": "text/x-python",
   "name": "python",
   "nbconvert_exporter": "python",
   "pygments_lexer": "ipython3",
   "version": "3.8.0"
  }
 },
 "nbformat": 4,
 "nbformat_minor": 2
}
